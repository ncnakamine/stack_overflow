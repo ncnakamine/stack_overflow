{
 "cells": [
  {
   "cell_type": "markdown",
   "metadata": {},
   "source": [
    "# Notebook outline\n",
    "\n",
    "- Context\n",
    "- Data Understanding\n",
    "\t- Entire dataset\n",
    "\t- Subset of interest\n",
    "- Data Preparation\n",
    "\t- Feature engineering\n",
    "\t- Data preparation summary\n",
    "\t- Visualize distributions of features and response variables\n",
    "\t\t- Q1) To what extent do full time developers have a learning mentality?\n",
    "\t\t- Q2) To what extent do full time developers have a strong social network with other developers?\n",
    "\t- Q1, Q2, and visualization findings\n",
    "- Data Modeling\n",
    "\t- Q3) How do individual learning mentality and social network strength relate to career satisfaction?\t\n",
    "\t- Q3 and general findings \n",
    "\t- Reduced model with aggregated features\n",
    "\t- Additional Q3 findings\n",
    "- Results evaluation\n",
    "    - summary of Q1, Q2, and Q3 findings\n"
   ]
  },
  {
   "cell_type": "markdown",
   "metadata": {},
   "source": [
    "# Context\n",
    "\n",
    "What makes a career satisfying? Two of my favorite things about working in data are the opportunity to continuously learn more about programming languages and to brainstorm with coworkers who feel passionately about the field. With the [2017 Stack Overflow developer survey](https://www.kaggle.com/stackoverflow/so-survey-2017), we can gain insight into whether or not this opinion might be more widespread. Though I’m not a developer, it also seems as though developer languages are also constantly evolving. This notebook will examine the following questions: \n",
    "\n",
    "1) To what extent do full time developers have a learning mentality? \n",
    "\n",
    "2) To what extent do full time developers have a strong social network with other developers? \n",
    "\n",
    "3) How do individual learning mentality and social network strength relate to career satisfaction?\n"
   ]
  },
  {
   "cell_type": "code",
   "execution_count": 322,
   "metadata": {},
   "outputs": [],
   "source": [
    "# import necesary packages\n",
    "import numpy as np\n",
    "import pandas as pd\n",
    "import sys\n",
    "import os\n",
    "import seaborn as sns\n",
    "import matplotlib.pyplot as plt\n",
    "from sklearn.model_selection import train_test_split\n",
    "from sklearn import preprocessing\n",
    "from sklearn.preprocessing import StandardScaler, MinMaxScaler, Normalizer\n",
    "from sklearn.linear_model import LinearRegression\n",
    "from sklearn.ensemble import AdaBoostClassifier, RandomForestClassifier\n",
    "from sklearn.metrics import r2_score\n",
    "from sklearn.cluster import KMeans\n",
    "import warnings\n",
    "warnings.filterwarnings('ignore')\n",
    "%matplotlib inline"
   ]
  },
  {
   "cell_type": "code",
   "execution_count": 323,
   "metadata": {},
   "outputs": [],
   "source": [
    "# os.chdir(\"developer_survey_2017\")"
   ]
  },
  {
   "cell_type": "code",
   "execution_count": 324,
   "metadata": {},
   "outputs": [],
   "source": [
    "data_file = \"survey_results_public.csv\"\n",
    "desc_file = \"survey_results_schema.csv\"\n",
    "df = pd.read_csv(data_file)\n",
    "df_desc = pd.read_csv(desc_file)"
   ]
  },
  {
   "cell_type": "markdown",
   "metadata": {},
   "source": [
    "# Data Understanding"
   ]
  },
  {
   "cell_type": "markdown",
   "metadata": {},
   "source": [
    "## Entire dataset\n",
    "\n",
    "Before we create a dataframe of interest to answer our questions, let's take a brief look at the entire dataset."
   ]
  },
  {
   "cell_type": "code",
   "execution_count": 325,
   "metadata": {},
   "outputs": [
    {
     "name": "stdout",
     "output_type": "stream",
     "text": [
      "(51392, 154)\n"
     ]
    }
   ],
   "source": [
    "print(df.shape)"
   ]
  },
  {
   "cell_type": "code",
   "execution_count": 326,
   "metadata": {},
   "outputs": [
    {
     "data": {
      "text/html": [
       "<div>\n",
       "<style scoped>\n",
       "    .dataframe tbody tr th:only-of-type {\n",
       "        vertical-align: middle;\n",
       "    }\n",
       "\n",
       "    .dataframe tbody tr th {\n",
       "        vertical-align: top;\n",
       "    }\n",
       "\n",
       "    .dataframe thead th {\n",
       "        text-align: right;\n",
       "    }\n",
       "</style>\n",
       "<table border=\"1\" class=\"dataframe\">\n",
       "  <thead>\n",
       "    <tr style=\"text-align: right;\">\n",
       "      <th></th>\n",
       "      <th>Respondent</th>\n",
       "      <th>Professional</th>\n",
       "      <th>ProgramHobby</th>\n",
       "      <th>Country</th>\n",
       "      <th>University</th>\n",
       "      <th>EmploymentStatus</th>\n",
       "      <th>FormalEducation</th>\n",
       "      <th>MajorUndergrad</th>\n",
       "      <th>HomeRemote</th>\n",
       "      <th>CompanySize</th>\n",
       "      <th>...</th>\n",
       "      <th>StackOverflowMakeMoney</th>\n",
       "      <th>Gender</th>\n",
       "      <th>HighestEducationParents</th>\n",
       "      <th>Race</th>\n",
       "      <th>SurveyLong</th>\n",
       "      <th>QuestionsInteresting</th>\n",
       "      <th>QuestionsConfusing</th>\n",
       "      <th>InterestedAnswers</th>\n",
       "      <th>Salary</th>\n",
       "      <th>ExpectedSalary</th>\n",
       "    </tr>\n",
       "  </thead>\n",
       "  <tbody>\n",
       "    <tr>\n",
       "      <th>0</th>\n",
       "      <td>1</td>\n",
       "      <td>Student</td>\n",
       "      <td>Yes, both</td>\n",
       "      <td>United States</td>\n",
       "      <td>No</td>\n",
       "      <td>Not employed, and not looking for work</td>\n",
       "      <td>Secondary school</td>\n",
       "      <td>NaN</td>\n",
       "      <td>NaN</td>\n",
       "      <td>NaN</td>\n",
       "      <td>...</td>\n",
       "      <td>Strongly disagree</td>\n",
       "      <td>Male</td>\n",
       "      <td>High school</td>\n",
       "      <td>White or of European descent</td>\n",
       "      <td>Strongly disagree</td>\n",
       "      <td>Strongly agree</td>\n",
       "      <td>Disagree</td>\n",
       "      <td>Strongly agree</td>\n",
       "      <td>NaN</td>\n",
       "      <td>NaN</td>\n",
       "    </tr>\n",
       "    <tr>\n",
       "      <th>1</th>\n",
       "      <td>2</td>\n",
       "      <td>Student</td>\n",
       "      <td>Yes, both</td>\n",
       "      <td>United Kingdom</td>\n",
       "      <td>Yes, full-time</td>\n",
       "      <td>Employed part-time</td>\n",
       "      <td>Some college/university study without earning ...</td>\n",
       "      <td>Computer science or software engineering</td>\n",
       "      <td>More than half, but not all, the time</td>\n",
       "      <td>20 to 99 employees</td>\n",
       "      <td>...</td>\n",
       "      <td>Strongly disagree</td>\n",
       "      <td>Male</td>\n",
       "      <td>A master's degree</td>\n",
       "      <td>White or of European descent</td>\n",
       "      <td>Somewhat agree</td>\n",
       "      <td>Somewhat agree</td>\n",
       "      <td>Disagree</td>\n",
       "      <td>Strongly agree</td>\n",
       "      <td>NaN</td>\n",
       "      <td>37500.0</td>\n",
       "    </tr>\n",
       "    <tr>\n",
       "      <th>2</th>\n",
       "      <td>3</td>\n",
       "      <td>Professional developer</td>\n",
       "      <td>Yes, both</td>\n",
       "      <td>United Kingdom</td>\n",
       "      <td>No</td>\n",
       "      <td>Employed full-time</td>\n",
       "      <td>Bachelor's degree</td>\n",
       "      <td>Computer science or software engineering</td>\n",
       "      <td>Less than half the time, but at least one day ...</td>\n",
       "      <td>10,000 or more employees</td>\n",
       "      <td>...</td>\n",
       "      <td>Disagree</td>\n",
       "      <td>Male</td>\n",
       "      <td>A professional degree</td>\n",
       "      <td>White or of European descent</td>\n",
       "      <td>Somewhat agree</td>\n",
       "      <td>Agree</td>\n",
       "      <td>Disagree</td>\n",
       "      <td>Agree</td>\n",
       "      <td>113750.0</td>\n",
       "      <td>NaN</td>\n",
       "    </tr>\n",
       "    <tr>\n",
       "      <th>3</th>\n",
       "      <td>4</td>\n",
       "      <td>Professional non-developer who sometimes write...</td>\n",
       "      <td>Yes, both</td>\n",
       "      <td>United States</td>\n",
       "      <td>No</td>\n",
       "      <td>Employed full-time</td>\n",
       "      <td>Doctoral degree</td>\n",
       "      <td>A non-computer-focused engineering discipline</td>\n",
       "      <td>Less than half the time, but at least one day ...</td>\n",
       "      <td>10,000 or more employees</td>\n",
       "      <td>...</td>\n",
       "      <td>Disagree</td>\n",
       "      <td>Male</td>\n",
       "      <td>A doctoral degree</td>\n",
       "      <td>White or of European descent</td>\n",
       "      <td>Agree</td>\n",
       "      <td>Agree</td>\n",
       "      <td>Somewhat agree</td>\n",
       "      <td>Strongly agree</td>\n",
       "      <td>NaN</td>\n",
       "      <td>NaN</td>\n",
       "    </tr>\n",
       "    <tr>\n",
       "      <th>4</th>\n",
       "      <td>5</td>\n",
       "      <td>Professional developer</td>\n",
       "      <td>Yes, I program as a hobby</td>\n",
       "      <td>Switzerland</td>\n",
       "      <td>No</td>\n",
       "      <td>Employed full-time</td>\n",
       "      <td>Master's degree</td>\n",
       "      <td>Computer science or software engineering</td>\n",
       "      <td>Never</td>\n",
       "      <td>10 to 19 employees</td>\n",
       "      <td>...</td>\n",
       "      <td>NaN</td>\n",
       "      <td>NaN</td>\n",
       "      <td>NaN</td>\n",
       "      <td>NaN</td>\n",
       "      <td>NaN</td>\n",
       "      <td>NaN</td>\n",
       "      <td>NaN</td>\n",
       "      <td>NaN</td>\n",
       "      <td>NaN</td>\n",
       "      <td>NaN</td>\n",
       "    </tr>\n",
       "  </tbody>\n",
       "</table>\n",
       "<p>5 rows × 154 columns</p>\n",
       "</div>"
      ],
      "text/plain": [
       "   Respondent                                       Professional  \\\n",
       "0           1                                            Student   \n",
       "1           2                                            Student   \n",
       "2           3                             Professional developer   \n",
       "3           4  Professional non-developer who sometimes write...   \n",
       "4           5                             Professional developer   \n",
       "\n",
       "                ProgramHobby         Country      University  \\\n",
       "0                  Yes, both   United States              No   \n",
       "1                  Yes, both  United Kingdom  Yes, full-time   \n",
       "2                  Yes, both  United Kingdom              No   \n",
       "3                  Yes, both   United States              No   \n",
       "4  Yes, I program as a hobby     Switzerland              No   \n",
       "\n",
       "                         EmploymentStatus  \\\n",
       "0  Not employed, and not looking for work   \n",
       "1                      Employed part-time   \n",
       "2                      Employed full-time   \n",
       "3                      Employed full-time   \n",
       "4                      Employed full-time   \n",
       "\n",
       "                                     FormalEducation  \\\n",
       "0                                   Secondary school   \n",
       "1  Some college/university study without earning ...   \n",
       "2                                  Bachelor's degree   \n",
       "3                                    Doctoral degree   \n",
       "4                                    Master's degree   \n",
       "\n",
       "                                  MajorUndergrad  \\\n",
       "0                                            NaN   \n",
       "1       Computer science or software engineering   \n",
       "2       Computer science or software engineering   \n",
       "3  A non-computer-focused engineering discipline   \n",
       "4       Computer science or software engineering   \n",
       "\n",
       "                                          HomeRemote  \\\n",
       "0                                                NaN   \n",
       "1              More than half, but not all, the time   \n",
       "2  Less than half the time, but at least one day ...   \n",
       "3  Less than half the time, but at least one day ...   \n",
       "4                                              Never   \n",
       "\n",
       "                CompanySize       ...       StackOverflowMakeMoney Gender  \\\n",
       "0                       NaN       ...            Strongly disagree   Male   \n",
       "1        20 to 99 employees       ...            Strongly disagree   Male   \n",
       "2  10,000 or more employees       ...                     Disagree   Male   \n",
       "3  10,000 or more employees       ...                     Disagree   Male   \n",
       "4        10 to 19 employees       ...                          NaN    NaN   \n",
       "\n",
       "  HighestEducationParents                          Race         SurveyLong  \\\n",
       "0             High school  White or of European descent  Strongly disagree   \n",
       "1       A master's degree  White or of European descent     Somewhat agree   \n",
       "2   A professional degree  White or of European descent     Somewhat agree   \n",
       "3       A doctoral degree  White or of European descent              Agree   \n",
       "4                     NaN                           NaN                NaN   \n",
       "\n",
       "  QuestionsInteresting QuestionsConfusing InterestedAnswers    Salary  \\\n",
       "0       Strongly agree           Disagree    Strongly agree       NaN   \n",
       "1       Somewhat agree           Disagree    Strongly agree       NaN   \n",
       "2                Agree           Disagree             Agree  113750.0   \n",
       "3                Agree     Somewhat agree    Strongly agree       NaN   \n",
       "4                  NaN                NaN               NaN       NaN   \n",
       "\n",
       "   ExpectedSalary  \n",
       "0             NaN  \n",
       "1         37500.0  \n",
       "2             NaN  \n",
       "3             NaN  \n",
       "4             NaN  \n",
       "\n",
       "[5 rows x 154 columns]"
      ]
     },
     "execution_count": 326,
     "metadata": {},
     "output_type": "execute_result"
    }
   ],
   "source": [
    "df.head()"
   ]
  },
  {
   "cell_type": "markdown",
   "metadata": {},
   "source": [
    "## Subset of interest\n",
    "To answer the 3 proposed questions, we're mainly interested in the opinions of professional full-time developers."
   ]
  },
  {
   "cell_type": "code",
   "execution_count": 327,
   "metadata": {},
   "outputs": [],
   "source": [
    "# relevant columns to answer our questions\n",
    "relevant_cols = ['Professional','EmploymentStatus','Country','CompanySize',\n",
    "                 'YearsCodedJob','ProblemSolving','BuildingThings',\n",
    "                 'LearningNewTech','InvestTimeTools','ChallengeMyself',\n",
    "                 'FriendsDevelopers','KinshipDevelopers','CareerSatisfaction',\n",
    "                'EnjoyDebugging']\n",
    "df = df[relevant_cols]\n"
   ]
  },
  {
   "cell_type": "code",
   "execution_count": 328,
   "metadata": {},
   "outputs": [
    {
     "name": "stdout",
     "output_type": "stream",
     "text": [
      "30211 out of 51392 respondents are full-time employed professional developers\n"
     ]
    }
   ],
   "source": [
    "# create df with full time employed professional developers\n",
    "prof_dev = df['Professional']=='Professional developer'\n",
    "fte = df['EmploymentStatus'] == 'Employed full-time'\n",
    "df_dev_fte = df[prof_dev & fte]\n",
    "\n",
    "print(\"{} out of {} respondents are full-time employed professional developers\".format(len(df_dev_fte), len(df)))\n"
   ]
  },
  {
   "cell_type": "code",
   "execution_count": 329,
   "metadata": {},
   "outputs": [],
   "source": [
    "# drop cols that won't be used in analysis\n",
    "df_dev_fte.drop(columns=['Professional','EmploymentStatus'], inplace=True)\n",
    "    # same as below\n",
    "# df_dev_fte.drop(labels=['Professional','EmploymentStatus'], axis=1, inplace=True)\n"
   ]
  },
  {
   "cell_type": "code",
   "execution_count": 330,
   "metadata": {},
   "outputs": [
    {
     "data": {
      "text/plain": [
       "Country                object\n",
       "CompanySize            object\n",
       "YearsCodedJob          object\n",
       "ProblemSolving         object\n",
       "BuildingThings         object\n",
       "LearningNewTech        object\n",
       "InvestTimeTools        object\n",
       "ChallengeMyself        object\n",
       "FriendsDevelopers      object\n",
       "KinshipDevelopers      object\n",
       "CareerSatisfaction    float64\n",
       "EnjoyDebugging         object\n",
       "dtype: object"
      ]
     },
     "execution_count": 330,
     "metadata": {},
     "output_type": "execute_result"
    }
   ],
   "source": [
    "df_dev_fte.dtypes"
   ]
  },
  {
   "cell_type": "code",
   "execution_count": 331,
   "metadata": {},
   "outputs": [
    {
     "data": {
      "text/plain": [
       "20 to 99 employees          6988\n",
       "100 to 499 employees        5920\n",
       "10,000 or more employees    4292\n",
       "10 to 19 employees          3175\n",
       "1,000 to 4,999 employees    2947\n",
       "Fewer than 10 employees     2796\n",
       "500 to 999 employees        1959\n",
       "5,000 to 9,999 employees    1190\n",
       "I don't know                 469\n",
       "I prefer not to answer       438\n",
       "Name: CompanySize, dtype: int64"
      ]
     },
     "execution_count": 331,
     "metadata": {},
     "output_type": "execute_result"
    }
   ],
   "source": [
    "# company size is coded differently\n",
    "df_dev_fte.CompanySize.value_counts()"
   ]
  },
  {
   "cell_type": "code",
   "execution_count": 332,
   "metadata": {},
   "outputs": [
    {
     "name": "stdout",
     "output_type": "stream",
     "text": [
      "percent missing data in relevant columns:\n"
     ]
    },
    {
     "data": {
      "text/plain": [
       "Country                0.00\n",
       "CompanySize            0.07\n",
       "YearsCodedJob          0.45\n",
       "CareerSatisfaction     0.54\n",
       "LearningNewTech       21.67\n",
       "ProblemSolving        21.70\n",
       "BuildingThings        21.73\n",
       "FriendsDevelopers     21.91\n",
       "ChallengeMyself       22.03\n",
       "InvestTimeTools       22.09\n",
       "KinshipDevelopers     22.32\n",
       "EnjoyDebugging        23.14\n",
       "dtype: float64"
      ]
     },
     "execution_count": 332,
     "metadata": {},
     "output_type": "execute_result"
    }
   ],
   "source": [
    "missing_data_cols = df_dev_fte.isnull().sum().sort_values()\n",
    "print(\"percent missing data in relevant columns:\")\n",
    "round((missing_data_cols/df.shape[0])*100, 2)"
   ]
  },
  {
   "cell_type": "code",
   "execution_count": 333,
   "metadata": {},
   "outputs": [],
   "source": [
    "# Drop columns have a minimal amount of missing data\n",
    "drop_nas_from_cols = ['Country','CompanySize','YearsCodedJob','CareerSatisfaction']\n",
    "\n",
    "df_dev_fte.dropna(axis=0, how='any', subset=drop_nas_from_cols, inplace=True)\n",
    "\n",
    "# remove missing values from CompanySize\n",
    "companysize_nan1 = df_dev_fte['CompanySize'] != \"I don't know\"\n",
    "companysize_nan2 = df_dev_fte['CompanySize'] != \"I prefer not to answer\"\n",
    "df_dev_fte = df_dev_fte[companysize_nan1 & companysize_nan2]\n",
    "\n"
   ]
  },
  {
   "cell_type": "code",
   "execution_count": 334,
   "metadata": {},
   "outputs": [
    {
     "name": "stdout",
     "output_type": "stream",
     "text": [
      "percent missing data in relevant columns:\n"
     ]
    },
    {
     "data": {
      "text/plain": [
       "Country                0.00\n",
       "CompanySize            0.00\n",
       "YearsCodedJob          0.00\n",
       "CareerSatisfaction     0.00\n",
       "LearningNewTech       20.41\n",
       "ProblemSolving        20.44\n",
       "BuildingThings        20.46\n",
       "FriendsDevelopers     20.65\n",
       "ChallengeMyself       20.72\n",
       "InvestTimeTools       20.76\n",
       "KinshipDevelopers     21.00\n",
       "EnjoyDebugging        21.79\n",
       "dtype: float64"
      ]
     },
     "execution_count": 334,
     "metadata": {},
     "output_type": "execute_result"
    }
   ],
   "source": [
    "# view new percent missing data in relevant columns\n",
    "missing_data_cols = df_dev_fte.isnull().sum().sort_values()\n",
    "print(\"percent missing data in relevant columns:\")\n",
    "round((missing_data_cols/df.shape[0])*100, 2)"
   ]
  },
  {
   "cell_type": "markdown",
   "metadata": {},
   "source": [
    "# Data Preparation\n",
    "\n",
    "## Feature engineering"
   ]
  },
  {
   "cell_type": "code",
   "execution_count": 335,
   "metadata": {},
   "outputs": [],
   "source": [
    "def recode_country(x):\n",
    "    \"\"\"\n",
    "    function to create US boolean variable\n",
    "    \n",
    "    x: value in pandas series\n",
    "    \"\"\"\n",
    "    \n",
    "    if x == 'United States':\n",
    "        return 1\n",
    "    else: \n",
    "        return 0\n",
    "df_dev_fte['Country'] = df_dev_fte['Country'].apply(recode_country)\n",
    "df_dev_fte.rename(columns={'Country':'US'}, inplace=True)"
   ]
  },
  {
   "cell_type": "code",
   "execution_count": 336,
   "metadata": {},
   "outputs": [],
   "source": [
    "CompanySize_mapping = {'Fewer than 10 employees': 1, '10 to 19 employees': 2, \n",
    "                       '20 to 99 employees': 3, '100 to 499 employees': 4, \n",
    "                       '500 to 999 employees': 5, '1,000 to 4,999 employees': 6,\n",
    "                       '5,000 to 9,999 employees': 7, '10,000 or more employees': 8}\n",
    "\n",
    "df_dev_fte['CompanySize'] = df_dev_fte['CompanySize'].replace(CompanySize_mapping)\n"
   ]
  },
  {
   "cell_type": "code",
   "execution_count": 337,
   "metadata": {},
   "outputs": [],
   "source": [
    "def recode_YearsCodedJob(x):\n",
    "    \"\"\"\n",
    "    return first 2 characters to get years coded from string\n",
    "    \n",
    "    x: value in pandas series\n",
    "    \"\"\"\n",
    "    if x is not None:\n",
    "        return x[:2]\n",
    "\n",
    "YearsCoded_mapping = {'Le' : 0}\n",
    "\n",
    "df_dev_fte['YearsCodedJob'] = df_dev_fte['YearsCodedJob'].apply(recode_YearsCodedJob)\n",
    "df_dev_fte['YearsCodedJob'] = df_dev_fte['YearsCodedJob'].replace(YearsCoded_mapping)\n",
    "df_dev_fte['YearsCodedJob'] = pd.to_numeric(df_dev_fte['YearsCodedJob'])"
   ]
  },
  {
   "cell_type": "code",
   "execution_count": null,
   "metadata": {},
   "outputs": [],
   "source": []
  },
  {
   "cell_type": "code",
   "execution_count": null,
   "metadata": {},
   "outputs": [],
   "source": []
  },
  {
   "cell_type": "code",
   "execution_count": 338,
   "metadata": {},
   "outputs": [],
   "source": [
    "likert_mapping = {'Strongly disagree': 1, 'Disagree': 2, \n",
    "                  'Somewhat agree': 3, 'Agree': 4, 'Strongly agree': 5}\n",
    "\n",
    "likert_cols = ['ProblemSolving', 'BuildingThings', 'LearningNewTech',\n",
    "               'InvestTimeTools', 'ChallengeMyself', 'FriendsDevelopers',\n",
    "               'KinshipDevelopers','EnjoyDebugging']\n",
    "\n",
    "for col in likert_cols: \n",
    "    df_dev_fte[col] = df_dev_fte[col].replace(likert_mapping)"
   ]
  },
  {
   "cell_type": "code",
   "execution_count": null,
   "metadata": {},
   "outputs": [],
   "source": []
  },
  {
   "cell_type": "code",
   "execution_count": 339,
   "metadata": {},
   "outputs": [],
   "source": [
    "# look at rows w/nan values only\n",
    "df_dev_fte_nans = df_dev_fte[pd.isnull(df_dev_fte).any(axis=1)]\n",
    "\n",
    "# compare distributions of Career Satisfaction and non null features\n",
    "df_dev_fte_nans_desc = df_dev_fte_nans.describe()\n",
    "df_dev_fte_desc = df_dev_fte.describe()\n",
    "\n",
    "desc_comp = df_dev_fte_nans_desc.merge(df_dev_fte_desc, left_index=True, right_index=True,\n",
    "                                       suffixes=('_nans','_no_nans') )\n",
    "\n",
    "desc_comp['CareerSatisfaction_diff'] = desc_comp['CareerSatisfaction_nans'] - desc_comp['CareerSatisfaction_no_nans']\n",
    "desc_comp['CompanySize_diff'] = desc_comp['CompanySize_nans'] - desc_comp['CompanySize_no_nans']\n",
    "desc_comp['YearsCodedJob_diff'] = desc_comp['YearsCodedJob_nans'] - desc_comp['YearsCodedJob_no_nans']\n",
    "desc_comp['US_diff'] = desc_comp['US_nans'] - desc_comp['US_no_nans']\n",
    "\n",
    "\n",
    "\n"
   ]
  },
  {
   "cell_type": "code",
   "execution_count": 340,
   "metadata": {},
   "outputs": [
    {
     "data": {
      "text/html": [
       "<div>\n",
       "<style scoped>\n",
       "    .dataframe tbody tr th:only-of-type {\n",
       "        vertical-align: middle;\n",
       "    }\n",
       "\n",
       "    .dataframe tbody tr th {\n",
       "        vertical-align: top;\n",
       "    }\n",
       "\n",
       "    .dataframe thead th {\n",
       "        text-align: right;\n",
       "    }\n",
       "</style>\n",
       "<table border=\"1\" class=\"dataframe\">\n",
       "  <thead>\n",
       "    <tr style=\"text-align: right;\">\n",
       "      <th></th>\n",
       "      <th>CareerSatisfaction_diff</th>\n",
       "      <th>CompanySize_diff</th>\n",
       "      <th>YearsCodedJob_diff</th>\n",
       "      <th>US_diff</th>\n",
       "    </tr>\n",
       "  </thead>\n",
       "  <tbody>\n",
       "    <tr>\n",
       "      <th>mean</th>\n",
       "      <td>-0.037970</td>\n",
       "      <td>-0.030060</td>\n",
       "      <td>-0.261837</td>\n",
       "      <td>-0.016483</td>\n",
       "    </tr>\n",
       "    <tr>\n",
       "      <th>std</th>\n",
       "      <td>0.051972</td>\n",
       "      <td>0.002913</td>\n",
       "      <td>-0.092989</td>\n",
       "      <td>-0.010215</td>\n",
       "    </tr>\n",
       "    <tr>\n",
       "      <th>min</th>\n",
       "      <td>0.000000</td>\n",
       "      <td>0.000000</td>\n",
       "      <td>0.000000</td>\n",
       "      <td>0.000000</td>\n",
       "    </tr>\n",
       "    <tr>\n",
       "      <th>25%</th>\n",
       "      <td>0.000000</td>\n",
       "      <td>0.000000</td>\n",
       "      <td>0.000000</td>\n",
       "      <td>0.000000</td>\n",
       "    </tr>\n",
       "    <tr>\n",
       "      <th>50%</th>\n",
       "      <td>0.000000</td>\n",
       "      <td>0.000000</td>\n",
       "      <td>-1.000000</td>\n",
       "      <td>0.000000</td>\n",
       "    </tr>\n",
       "    <tr>\n",
       "      <th>75%</th>\n",
       "      <td>0.000000</td>\n",
       "      <td>0.000000</td>\n",
       "      <td>-1.000000</td>\n",
       "      <td>0.000000</td>\n",
       "    </tr>\n",
       "    <tr>\n",
       "      <th>max</th>\n",
       "      <td>0.000000</td>\n",
       "      <td>0.000000</td>\n",
       "      <td>0.000000</td>\n",
       "      <td>0.000000</td>\n",
       "    </tr>\n",
       "  </tbody>\n",
       "</table>\n",
       "</div>"
      ],
      "text/plain": [
       "      CareerSatisfaction_diff  CompanySize_diff  YearsCodedJob_diff   US_diff\n",
       "mean                -0.037970         -0.030060           -0.261837 -0.016483\n",
       "std                  0.051972          0.002913           -0.092989 -0.010215\n",
       "min                  0.000000          0.000000            0.000000  0.000000\n",
       "25%                  0.000000          0.000000            0.000000  0.000000\n",
       "50%                  0.000000          0.000000           -1.000000  0.000000\n",
       "75%                  0.000000          0.000000           -1.000000  0.000000\n",
       "max                  0.000000          0.000000            0.000000  0.000000"
      ]
     },
     "execution_count": 340,
     "metadata": {},
     "output_type": "execute_result"
    }
   ],
   "source": [
    "# not a huge difference in statistics for groups with and without missing data\n",
    "\n",
    "diff_cols = ['CareerSatisfaction_diff','CompanySize_diff','YearsCodedJob_diff','US_diff']\n",
    "desc_comp[diff_cols][1:]"
   ]
  },
  {
   "cell_type": "code",
   "execution_count": 341,
   "metadata": {},
   "outputs": [
    {
     "name": "stdout",
     "output_type": "stream",
     "text": [
      "11619 out of 28879 full-time employed professional developers do not have missing data\n"
     ]
    }
   ],
   "source": [
    "# drop rows w/any nans\n",
    "df_dev_fte_no_nans = df_dev_fte.dropna(axis=0, how='any')\n",
    "print(\"{} out of {} full-time employed professional developers do not have missing data\".format(len(df_dev_fte_no_nans), len(df_dev_fte)))\n",
    "\n"
   ]
  },
  {
   "cell_type": "markdown",
   "metadata": {},
   "source": [
    "## Data preparation summary\n",
    "\n",
    "- Career Satisfaction and some features CompanySize YearsCodedJob, and US had limited amounts of missing data, so we dropped rows with missing values for these variables\n",
    "\n",
    "- There was relatively more missing data for the likert variables. We found that Career Satisfaction, CompanySize YearsCodedJob, and US. In general, those with missing likert data have slightly lower career satisfaction, work at slightly smaller companies, have been coding for an average of 3 months less, and are slightly more likely to reside outside the US. Note, the differences here are quite minimal. We also have a fair amount of data for modeling if we drop these rows. Because of that, we'll drop all rows with null values moving forward. \n",
    "\n",
    "- add visualizations\n",
    "\n",
    "- modeling next\n"
   ]
  },
  {
   "cell_type": "markdown",
   "metadata": {},
   "source": [
    "## Visualize distributions of features and response variables\n",
    "In this section, we'll answer questions 1 and 2\n",
    "\n",
    "## Question 1) To what extent do full time developers have a learning mentality?\n",
    "\n",
    "## Question 2) To what extent do full time developers have a strong social network with other developers?"
   ]
  },
  {
   "cell_type": "code",
   "execution_count": 342,
   "metadata": {},
   "outputs": [
    {
     "data": {
      "image/png": "[encoded data removed]",
      "text/plain": [
       "<Figure size 432x288 with 1 Axes>"
      ]
     },
     "metadata": {
      "needs_background": "light"
     },
     "output_type": "display_data"
    },
    {
     "name": "stdout",
     "output_type": "stream",
     "text": [
      "CareerSatisfaction Average:  7.490145451415785\n"
     ]
    }
   ],
   "source": [
    "# Career Satisfaction is left skewed\n",
    "# df_dev_fte_no_nans['CareerSatisfaction'].hist();\n",
    "sns.distplot(df_dev_fte_no_nans['CareerSatisfaction'], kde=False, bins=10); \n",
    "plt.title('CareerSatisfaction')\n",
    "plt.ylabel('Counts')\n",
    "plt.show()\n",
    "\n",
    "print(\"CareerSatisfaction Average: \", df_dev_fte_no_nans['CareerSatisfaction'].mean())\n"
   ]
  },
  {
   "cell_type": "code",
   "execution_count": 343,
   "metadata": {},
   "outputs": [],
   "source": [
    "# # similar satisfaction for US and non-US respondents\n",
    "# co_hist1 = df_dev_fte_no_nans[df_dev_fte_no_nans['US'] == 0]\n",
    "# co_hist2 = df_dev_fte_no_nans[df_dev_fte_no_nans['US'] == 1]\n",
    "# sns.distplot(co_hist1['CareerSatisfaction'], kde=False, bins=10, label='non-United States');\n",
    "# sns.distplot(co_hist2['CareerSatisfaction'], kde=False, bins=10, label='United States');\n",
    "# plt.legend()"
   ]
  },
  {
   "cell_type": "code",
   "execution_count": 344,
   "metadata": {},
   "outputs": [
    {
     "data": {
      "image/png": "[encoded data removed]",
      "text/plain": [
       "<Figure size 1296x720 with 6 Axes>"
      ]
     },
     "metadata": {
      "needs_background": "light"
     },
     "output_type": "display_data"
    }
   ],
   "source": [
    "# likert variables (main variables of interest) mostly left-skewed\n",
    "# df_dev_fte_no_nans[likert_cols].hist(bins=5); \n",
    "figure, axs = plt.subplots(nrows=2, ncols=3, sharex=True, sharey=True, figsize = (18, 10))\n",
    "figure.suptitle('Learning Mentality Distributions', size=30);\n",
    "# plt.gca().set_title('LearningMentality Distributions')\n",
    "plt.subplots_adjust(wspace=0.2, hspace=0.3)\n",
    "    \n",
    "sns.distplot(df_dev_fte_no_nans['ProblemSolving'], kde=False, bins=5, ax=axs[0][0]); \n",
    "axs[0][0].set_ylabel('Rows') \n",
    "sns.distplot(df_dev_fte_no_nans['BuildingThings'], kde=False, bins=5, ax=axs[0][1]); \n",
    "sns.distplot(df_dev_fte_no_nans['LearningNewTech'], kde=False, bins=5, ax=axs[0][2]); \n",
    "sns.distplot(df_dev_fte_no_nans['InvestTimeTools'], kde=False, bins=5, ax=axs[1][0]); \n",
    "axs[1][0].set_ylabel('Rows') \n",
    "sns.distplot(df_dev_fte_no_nans['ChallengeMyself'], kde=False, bins=5, ax=axs[1][1]);\n",
    "sns.distplot(df_dev_fte_no_nans['EnjoyDebugging'], kde=False, bins=5, ax=axs[1][2]);\n",
    "\n",
    "# sns.distplot(df_dev_fte_no_nans['FriendsDevelopers'], kde=False, bins=5, ax=axs[3][0]); \n",
    "# sns.distplot(df_dev_fte_no_nans['KinshipDevelopers'], kde=False, bins=5, ax=axs[3][1]); \n",
    "\n"
   ]
  },
  {
   "cell_type": "code",
   "execution_count": 345,
   "metadata": {},
   "outputs": [
    {
     "data": {
      "image/png": "[encoded data removed]",
      "text/plain": [
       "<Figure size 720x288 with 2 Axes>"
      ]
     },
     "metadata": {
      "needs_background": "light"
     },
     "output_type": "display_data"
    }
   ],
   "source": [
    "# likert variables (main variables of interest) mostly left-skewed\n",
    "# df_dev_fte_no_nans[likert_cols].hist(bins=5); \n",
    "figure, axs = plt.subplots(nrows=1, ncols=2, sharey=True, figsize = (10, 4))\n",
    "figure.suptitle('Network Strength Distributions \\n\\n', size=20);\n",
    "# plt.gca().set_title('LearningMentality Distributions')\n",
    "plt.subplots_adjust(wspace=0.2, hspace=0.3)\n",
    "    \n",
    "sns.distplot(df_dev_fte_no_nans['FriendsDevelopers'], kde=False, bins=5, ax=axs[0]);\n",
    "axs[0].set_ylabel('Rows') \n",
    "sns.distplot(df_dev_fte_no_nans['KinshipDevelopers'], kde=False, bins=5, ax=axs[1]); \n",
    "\n"
   ]
  },
  {
   "cell_type": "code",
   "execution_count": 346,
   "metadata": {},
   "outputs": [],
   "source": [
    "# individual plots \n",
    "# for col in likert_cols: \n",
    "#     sns.distplot(df_dev_fte_no_nans[col], kde=False, bins=5); \n",
    "#     plt.show()\n"
   ]
  },
  {
   "cell_type": "code",
   "execution_count": 347,
   "metadata": {},
   "outputs": [
    {
     "data": {
      "image/png": "[encoded data removed]",
      "text/plain": [
       "<Figure size 432x288 with 4 Axes>"
      ]
     },
     "metadata": {
      "needs_background": "light"
     },
     "output_type": "display_data"
    }
   ],
   "source": [
    "# control variables \n",
    "# CompanySize - somewhat normal distribution w/a fair amount of 10k or more employees\n",
    "# country - mostly non US\n",
    "# years coded on the job right skewed with a fair amount of 20+ respondents\n",
    "df_dev_fte_no_nans[['US','CompanySize','YearsCodedJob']].hist();"
   ]
  },
  {
   "cell_type": "code",
   "execution_count": 348,
   "metadata": {},
   "outputs": [],
   "source": [
    "# similar to heatmap, but not as useful\n",
    "# sns.pairplot(df_dev_fte_no_nans)"
   ]
  },
  {
   "cell_type": "code",
   "execution_count": 349,
   "metadata": {},
   "outputs": [
    {
     "data": {
      "image/png": "[encoded data removed]",
      "text/plain": [
       "<Figure size 432x288 with 2 Axes>"
      ]
     },
     "metadata": {
      "needs_background": "light"
     },
     "output_type": "display_data"
    }
   ],
   "source": [
    "sns.heatmap(df_dev_fte_no_nans.corr(), annot=True, fmt=\".2f\");"
   ]
  },
  {
   "cell_type": "markdown",
   "metadata": {},
   "source": [
    "## Q1, Q2, and visualization findings\n",
    "- Career Satisfaction is left skewed with most of the responses lying on the upper end of the scale (horray!)\n",
    "\n",
    "- Q1) To what extent do full time developers have a learning mentality? Finding - LearningMentality variables (ProblemSolving, BuildingThings, LearningNewTech, InvestTimeTools, ChallengeMyself, FriendsDevelopers) are relatively left skewed with more full time employed developer respondents favoring a learning mentality. \n",
    "\n",
    "- Q2) To what extent do full time developers have a strong social network with other developers? Finding - NetworkStrength variables (KinshipDevelopers, EnjoyDebugging) are relatively normally distributed when compared to LearningMentality variables, indicating less existence of strong networks than existence of learning mentality amongst respondents. \n",
    "\n",
    "- LearningMentality variables are relatively more correlated with one another than NetworkStrength variables. \n",
    "\n",
    "- Note, since the LearningMentality variables seem to be mostly left skewed, I'm opting to not impute the data to preserve variance for these fields. We do have a fair amount of data points without missing data ~11.6k, so proceeding without imputing values will still leave us with a fair amount of data.\n"
   ]
  },
  {
   "cell_type": "code",
   "execution_count": null,
   "metadata": {},
   "outputs": [],
   "source": []
  },
  {
   "cell_type": "markdown",
   "metadata": {},
   "source": [
    "# Data Modeling\n",
    "\n",
    "## Q3) How do individual learning mentality and social network strength relate to career satisfaction?\n"
   ]
  },
  {
   "cell_type": "code",
   "execution_count": 350,
   "metadata": {},
   "outputs": [],
   "source": [
    "\n",
    "def run_lm_model(data, transform_cols, scale_or_normalize): \n",
    "    \n",
    "    \"\"\"\n",
    "    inputs: \n",
    "        data: dataframe w/X and Y variables of interest. \n",
    "            must include CareerSatisfaction as response variable\n",
    "        transform_cols: columns to apply standard scaler to \n",
    "        scale_or_normalize: options - scale or normalize\n",
    "    return: r2, intercept, coefficients dataframe \n",
    "    \n",
    "    \"\"\"\n",
    "\n",
    "    # scale IVs\n",
    "    # scaler = StandardScaler()  \n",
    "        # https://medium.com/@rrfd/standardize-or-normalize-examples-in-python-e3f174b65dfc\n",
    "        # creates a more normal distribution\n",
    "    \n",
    "    if scale_or_normalize == 'scale':\n",
    "        scaler = MinMaxScaler() \n",
    "            # use this for coefficient interpretability \n",
    "        data = pd.DataFrame.copy(data)\n",
    "        data[transform_cols] = scaler.fit_transform(data[transform_cols])\n",
    "    \n",
    "    if scale_or_normalize == 'normalize':\n",
    "        normalizer = Normalizer() \n",
    "            # use this to approach assumption of normal distribution for IVs\n",
    "        data = pd.DataFrame.copy(data)\n",
    "        data[transform_cols] = normalizer.fit_transform(data[transform_cols])\n",
    "\n",
    "\n",
    "    # create DV and IV dfs\n",
    "    y = data['CareerSatisfaction'] \n",
    "    X = data.drop(columns = ['CareerSatisfaction'])\n",
    "\n",
    "    # Split into train and test\n",
    "    X_train, X_test, y_train, y_test = train_test_split(X, y, test_size = .30, random_state=42) \n",
    "    \n",
    "    # use OLS\n",
    "    lm_model = LinearRegression() # Instantiate\n",
    "    lm_model.fit(X_train, y_train) #Fit\n",
    "\n",
    "    #Predict and score the model\n",
    "    y_test_preds = lm_model.predict(X_test) \n",
    "    r2 = r2_score(y_test, y_test_preds)\n",
    "    intercept = lm_model.intercept_\n",
    "\n",
    "    # create coefficient dataframe for feature importance\n",
    "    coeff_df = pd.DataFrame(lm_model.coef_, X.columns, \n",
    "                        columns = ['Coefficient']) \n",
    "    coeff_df['abs_coeff'] = np.abs(coeff_df['Coefficient'])\n",
    "    coeff_df.sort_values(by=['abs_coeff'], ascending=False, inplace=True)\n",
    "    \n",
    "    return r2, intercept, coeff_df, data\n",
    "\n"
   ]
  },
  {
   "cell_type": "code",
   "execution_count": 351,
   "metadata": {},
   "outputs": [
    {
     "name": "stdout",
     "output_type": "stream",
     "text": [
      "r2:  0.06579119329125493\n",
      "\n",
      "intercept (expected value for those not in US w/mean values:  4.721483326718603\n",
      "CareerSatisfaction mean:  7.490145451415785\n",
      "\n",
      "coefficients: \n",
      "                    Coefficient  abs_coeff\n",
      "BuildingThings        0.890613   0.890613\n",
      "ProblemSolving        0.804116   0.804116\n",
      "KinshipDevelopers     0.801129   0.801129\n",
      "InvestTimeTools       0.369352   0.369352\n",
      "US                    0.307940   0.307940\n",
      "YearsCodedJob         0.272607   0.272607\n",
      "ChallengeMyself       0.250551   0.250551\n",
      "EnjoyDebugging        0.207847   0.207847\n",
      "LearningNewTech       0.141243   0.141243\n",
      "FriendsDevelopers    -0.115004   0.115004\n",
      "CompanySize          -0.084651   0.084651\n"
     ]
    }
   ],
   "source": [
    "# run full model w/scaled data\n",
    "# transform all cols except for country and careersatisfaction\n",
    "transform_cols = ['CompanySize','YearsCodedJob', 'ProblemSolving',\n",
    "                  'BuildingThings','LearningNewTech','InvestTimeTools',\n",
    "                  'ChallengeMyself','FriendsDevelopers','KinshipDevelopers',\n",
    "                 'EnjoyDebugging']\n",
    "\n",
    "r2_s, intercept_s, coeff_df_s, data_s = run_lm_model(data=df_dev_fte_no_nans, \n",
    "                                                     transform_cols=transform_cols,\n",
    "                                                     scale_or_normalize = 'scale')\n",
    "\n",
    "CareerSatisfaction_mean = df_dev_fte_no_nans['CareerSatisfaction'].describe()['mean']\n",
    "print(\"r2: \",r2_s)\n",
    "print(\"\\nintercept (expected value for those not in US w/mean values: \", intercept_s)\n",
    "print(\"CareerSatisfaction mean: \", CareerSatisfaction_mean)\n",
    "print(\"\\ncoefficients: \\n\", coeff_df_s) "
   ]
  },
  {
   "cell_type": "code",
   "execution_count": 352,
   "metadata": {},
   "outputs": [
    {
     "name": "stdout",
     "output_type": "stream",
     "text": [
      "r2:  0.02240420659528386\n",
      "\n",
      "intercept (expected value for those not in US w/mean values:  6.485540862077279\n",
      "CareerSatisfaction mean:  7.490145451415785\n",
      "\n",
      "coefficients: \n",
      "                    Coefficient  abs_coeff\n",
      "KinshipDevelopers     2.292429   2.292429\n",
      "FriendsDevelopers    -0.934797   0.934797\n",
      "InvestTimeTools       0.886115   0.886115\n",
      "LearningNewTech      -0.653785   0.653785\n",
      "YearsCodedJob         0.590549   0.590549\n",
      "US                    0.434000   0.434000\n",
      "BuildingThings        0.348291   0.348291\n",
      "EnjoyDebugging        0.291611   0.291611\n",
      "ProblemSolving        0.274235   0.274235\n",
      "CompanySize          -0.267734   0.267734\n",
      "ChallengeMyself       0.173415   0.173415\n"
     ]
    }
   ],
   "source": [
    "# run full model w/normalized data\n",
    "# transform all cols except for country and careersatisfaction\n",
    "transform_cols = ['CompanySize','YearsCodedJob', 'ProblemSolving',\n",
    "                  'BuildingThings','LearningNewTech','InvestTimeTools',\n",
    "                  'ChallengeMyself','FriendsDevelopers','KinshipDevelopers',\n",
    "                 'EnjoyDebugging']\n",
    "\n",
    "r2_n, intercept_n, coeff_df_n, data_n = run_lm_model(data=df_dev_fte_no_nans, \n",
    "                                                     transform_cols=transform_cols,\n",
    "                                                     scale_or_normalize = 'normalize')\n",
    "\n",
    "CareerSatisfaction_mean = df_dev_fte_no_nans['CareerSatisfaction'].describe()['mean']\n",
    "print(\"r2: \",r2_n)\n",
    "print(\"\\nintercept (expected value for those not in US w/mean values: \", intercept_n)\n",
    "print(\"CareerSatisfaction mean: \", CareerSatisfaction_mean)\n",
    "print(\"\\ncoefficients: \\n\", coeff_df_n) \n"
   ]
  },
  {
   "cell_type": "code",
   "execution_count": 353,
   "metadata": {},
   "outputs": [
    {
     "data": {
      "image/png": "[encoded data removed]",
      "text/plain": [
       "<Figure size 432x288 with 1 Axes>"
      ]
     },
     "metadata": {
      "needs_background": "light"
     },
     "output_type": "display_data"
    }
   ],
   "source": [
    "coeff_df_s.plot(y='Coefficient', kind='barh', use_index=True, color='blue',\n",
    "             xlim=-0.25, title='Coefficients (scaled features)');"
   ]
  },
  {
   "cell_type": "markdown",
   "metadata": {},
   "source": [
    "## Q3 and general findings\n",
    "Though normalizing features approaches OLS assumption to a greater extent than min max scaling, scaling the data allows for greater interpretability and higher R-squared (explained variance in CareerSatisfaction). With these likert variables in particluar, interpreability is key to compare coefficients. So, we'll proceed with MinMaxScaling. \n",
    "\n",
    "Example interpretations\n",
    "- MinMaxScaling - When variables are scaled between 1 and 0, a one unit increase in BuildingThings corresponds with a 0.89 increase in CareerSatisfaction.\n",
    "- Normalization - relatively unknown interpretation\n",
    "\n",
    "Q3) How do individual learning mentality and social network strength relate to career satisfaction? Finding - With the scaled model, our results indicate that LearningMentality AND NetworkStrength variables are important for CareerSatisfaction. LearningMentality does seem to be slightly more important with BuildingThings and ProblemSolving being more important than KinshipDevelopers. Surprisingly, those who have relatively more friends who are mostly developers have lower CareerSatisfaction.\n",
    "\n",
    "Let's see if we can simplify this model further.\n"
   ]
  },
  {
   "cell_type": "code",
   "execution_count": null,
   "metadata": {},
   "outputs": [],
   "source": []
  },
  {
   "cell_type": "code",
   "execution_count": null,
   "metadata": {},
   "outputs": [],
   "source": []
  },
  {
   "cell_type": "code",
   "execution_count": null,
   "metadata": {},
   "outputs": [],
   "source": []
  },
  {
   "cell_type": "markdown",
   "metadata": {},
   "source": [
    "# Reduced model with aggregated features"
   ]
  },
  {
   "cell_type": "code",
   "execution_count": null,
   "metadata": {},
   "outputs": [],
   "source": []
  },
  {
   "cell_type": "code",
   "execution_count": 354,
   "metadata": {},
   "outputs": [],
   "source": [
    "# create aggregate variables for LearningMentality and NetworkStrength\n",
    "    # because individual variables may be capturing similar concepts, affecting results\n",
    "\n",
    "# BuildingThings and KinshipDevelopers are both the most important\n",
    "# create df for linear regression w/reduced variables\n",
    "# create index variables for these learning mentality and network strength\n",
    "df_dev_fte_no_nans_reduced = pd.DataFrame.copy(df_dev_fte_no_nans)\n",
    "df_dev_fte_no_nans_reduced['LearningMentality'] = df_dev_fte_no_nans_reduced[['BuildingThings','ProblemSolving','InvestTimeTools','ChallengeMyself','LearningNewTech']].sum(axis=1)\n",
    "df_dev_fte_no_nans_reduced['NetworkStrength'] = df_dev_fte_no_nans_reduced[['KinshipDevelopers','FriendsDevelopers']].sum(axis=1)\n",
    "\n",
    "reduced_cols = ['US', 'CompanySize', 'YearsCodedJob','CareerSatisfaction', \n",
    "                'LearningMentality', 'NetworkStrength']\n",
    "df_dev_fte_no_nans_reduced = df_dev_fte_no_nans_reduced[reduced_cols]\n"
   ]
  },
  {
   "cell_type": "code",
   "execution_count": 355,
   "metadata": {},
   "outputs": [
    {
     "name": "stdout",
     "output_type": "stream",
     "text": [
      "r2:  0.05550967143998364\n",
      "\n",
      "intercept (expected value for those in US w/mean values:  4.952841104302392\n",
      "CareerSatisfaction mean:  7.490145451415785\n",
      "\n",
      "coefficients: \n",
      "                    Coefficient  abs_coeff\n",
      "LearningMentality     2.635772   2.635772\n",
      "NetworkStrength       0.436797   0.436797\n",
      "US                    0.363798   0.363798\n",
      "YearsCodedJob         0.324887   0.324887\n",
      "CompanySize          -0.115835   0.115835\n"
     ]
    }
   ],
   "source": [
    "reduced_X = ['CompanySize', 'YearsCodedJob',\n",
    "             'LearningMentality', 'NetworkStrength']\n",
    "r2_reduced, intercept_reduced, coeff_df_reduced, data_reduced = run_lm_model(data=df_dev_fte_no_nans_reduced, \n",
    "                                                                             transform_cols=reduced_X,\n",
    "                                                                            scale_or_normalize='scale')\n",
    "print(\"r2: \",r2_reduced)\n",
    "print(\"\\nintercept (expected value for those in US w/mean values: \", intercept_reduced)\n",
    "print(\"CareerSatisfaction mean: \", CareerSatisfaction_mean)\n",
    "print(\"\\ncoefficients: \\n\", coeff_df_reduced) "
   ]
  },
  {
   "cell_type": "code",
   "execution_count": null,
   "metadata": {},
   "outputs": [],
   "source": []
  },
  {
   "cell_type": "code",
   "execution_count": 356,
   "metadata": {},
   "outputs": [
    {
     "data": {
      "image/png": "[encoded data removed]",
      "text/plain": [
       "<Figure size 432x288 with 1 Axes>"
      ]
     },
     "metadata": {
      "needs_background": "light"
     },
     "output_type": "display_data"
    }
   ],
   "source": [
    "coeff_df_reduced.plot(y='Coefficient', kind='barh', use_index=True, color='blue',\n",
    "             xlim=-0.5, title='Coefficients (reduced model)');"
   ]
  },
  {
   "cell_type": "code",
   "execution_count": 357,
   "metadata": {},
   "outputs": [],
   "source": [
    "# # view simple linear regression for main variables of interest\n",
    "\n",
    "# # transform data\n",
    "# transform_cols = ['LearningMentality', 'NetworkStrength']\n",
    "# sc = MinMaxScaler()\n",
    "# data_scaled = pd.DataFrame.copy(df_dev_fte_no_nans_reduced)\n",
    "# data_scaled[transform_cols] = sc.fit_transform(data_scaled[transform_cols])\n",
    "\n",
    "# # jitter allows us to view density\n",
    "#     # jitter displays values as slightly over max for x and y\n",
    "# for x in transform_cols:\n",
    "#     sns.lmplot(x, 'CareerSatisfaction', data_scaled,\n",
    "#               x_jitter = 0.3, y_jitter=0.3)"
   ]
  },
  {
   "cell_type": "markdown",
   "metadata": {},
   "source": [
    "## Additional Q3 findings\n",
    "\n",
    "If we create a more parsimonious model by creating aggregate variables for LearningMentality and NetworkStrength, we observe that LearningMentality has a more substantial relationship with CareerSatisfaction than NetworkStrength. However, the results from the full model indicated this as well when we observed that those who have relatively more friends who are mostly developers have lower CareerSatisfaction.\n",
    "\n",
    "Let's see what we can learn from creating LearningMentality and NetworkingStrength clusters."
   ]
  },
  {
   "cell_type": "code",
   "execution_count": null,
   "metadata": {},
   "outputs": [],
   "source": []
  },
  {
   "cell_type": "code",
   "execution_count": null,
   "metadata": {},
   "outputs": [],
   "source": []
  },
  {
   "cell_type": "code",
   "execution_count": null,
   "metadata": {},
   "outputs": [],
   "source": []
  },
  {
   "cell_type": "markdown",
   "metadata": {},
   "source": [
    "# Career satisfaction for LearningMentality and NetworkingStrength clusters"
   ]
  },
  {
   "cell_type": "code",
   "execution_count": null,
   "metadata": {},
   "outputs": [],
   "source": [
    "\n"
   ]
  },
  {
   "cell_type": "code",
   "execution_count": 358,
   "metadata": {},
   "outputs": [
    {
     "data": {
      "image/png": "[encoded data removed]",
      "text/plain": [
       "<Figure size 432x288 with 1 Axes>"
      ]
     },
     "metadata": {
      "needs_background": "light"
     },
     "output_type": "display_data"
    }
   ],
   "source": [
    "\n",
    "## clustering algo \n",
    "estimator = KMeans(n_clusters=4, random_state = 2)\n",
    "cluster_df = df_dev_fte_no_nans_reduced[['LearningMentality','NetworkStrength']]\n",
    "estimator.fit(cluster_df)\n",
    "\n",
    "# Clusters are given in the labels_ attribute\n",
    "labels = estimator.labels_\n",
    "\n",
    "# Plot the data\n",
    "#jitter function to show density of points\n",
    "\n",
    "# https://stackoverflow.com/questions/8671808/matplotlib-avoiding-overlapping-datapoints-in-a-scatter-dot-beeswarm-plot\n",
    "def rand_jitter(series):\n",
    "    \"\"\"\n",
    "    return series w/jittered values to allow us to view density in scatter plot\n",
    "    \n",
    "    series: pandas series\n",
    "    \"\"\"\n",
    "    \n",
    "    stdev = .01*(max(series)-min(series))\n",
    "    return series + np.random.randn(len(series)) * stdev\n",
    "\n",
    "def set_colors(labels, colors='rgbykcm'):\n",
    "    \"\"\"\n",
    "    return a list of colors to be used for scatter plot\n",
    "    \n",
    "    labels: numpy array with labels\n",
    "    colors: colors for plot. labels/clusters will be in this order\n",
    "    \"\"\"\n",
    "    \n",
    "    colored_labels = []\n",
    "    for label in labels:\n",
    "        colored_labels.append(colors[label])\n",
    "    return colored_labels\n",
    "\n",
    "# labels: 0-red, 1-green, 2-blue, 3-yellow\n",
    "    # 0/red - high lm and high nw. Networking learners\n",
    "    # 1/green - somewhat high lm and high nw. networking moderate-learners\n",
    "    # 2/blue - low lm and any nw. erratic networking anti-learners \n",
    "    # 3/yellow - high lm and lower nw. recluse learners \n",
    "colors = set_colors(labels)\n",
    "plt.scatter(rand_jitter(df_dev_fte_no_nans_reduced['LearningMentality']), rand_jitter(df_dev_fte_no_nans_reduced['NetworkStrength']), c=colors)\n",
    "plt.title('LearningMentality and NetworkStrength Clusters')\n",
    "plt.xlabel(\"LearningMentality\")\n",
    "plt.ylabel(\"NetworkStrength\")\n",
    "plt.show()"
   ]
  },
  {
   "cell_type": "code",
   "execution_count": 359,
   "metadata": {},
   "outputs": [],
   "source": [
    "# labels _df\n",
    "labels_df = pd.DataFrame({\"labels\":labels, \"index\":cluster_df.index.tolist()})\n",
    "\n",
    "# merge to get other features\n",
    "clusters_df = pd.merge(labels_df, df_dev_fte_no_nans_reduced, how='inner', left_on='index', right_index=True)\n",
    "\n",
    "\n",
    "# name the labels w/something substantive\n",
    "def name_labels(x):\n",
    "    \"\"\"\n",
    "    give labels substantive names\n",
    "\n",
    "    x: value in series\n",
    "    \"\"\"\n",
    "    \n",
    "    if x == 0:\n",
    "        return 'networking learners'\n",
    "    if x == 1: \n",
    "        return 'networking moderate-learners'\n",
    "    if x == 2:\n",
    "        return 'erratic networking anti-learners'\n",
    "    if x == 3:\n",
    "        return 'recluse learners'\n",
    "\n",
    "clusters_df['cluster'] = clusters_df['labels'].apply(name_labels)     \n",
    "\n",
    "# drop unnecessary cols\n",
    "clusters_df.drop(columns=['index', 'LearningMentality','NetworkStrength'], inplace=True)\n",
    "# clusters_df=pd.get_dummies(data=clusters_df, columns=['labels'])"
   ]
  },
  {
   "cell_type": "code",
   "execution_count": 360,
   "metadata": {},
   "outputs": [],
   "source": [
    "# create agg data \n",
    "clusters_counts = clusters_df['cluster'].value_counts()\n",
    "clusters_means = clusters_df.groupby(['cluster']).mean()\n",
    "# merge agg data\n",
    "clusters_info = pd.merge(clusters_means, pd.DataFrame(clusters_counts), left_index=True, right_index=True)\n",
    "clusters_info.sort_values(by='CareerSatisfaction', inplace=True)"
   ]
  },
  {
   "cell_type": "code",
   "execution_count": 362,
   "metadata": {},
   "outputs": [
    {
     "data": {
      "image/png": "[encoded data removed]",
      "text/plain": [
       "<Figure size 432x288 with 1 Axes>"
      ]
     },
     "metadata": {
      "needs_background": "light"
     },
     "output_type": "display_data"
    }
   ],
   "source": [
    "plt.barh(clusters_info.index, clusters_info['CareerSatisfaction'])\n",
    "plt.title('Mean CareerSatisfaction by Cluster')\n",
    "plt.xlabel('Mean CareerSatisfaction')\n",
    "plt.show()"
   ]
  },
  {
   "cell_type": "markdown",
   "metadata": {},
   "source": [
    "# Q3 cluster findings\n",
    "\n",
    "- Clustering LearningMentality and NetworkStrength allows use to label users according to these two aggregated dimensions. \n",
    "\n",
    "- Networking learners appear to have the highest CareerSatisfaction, followed by recluse learners, networking moderate-learners, then erratic networking anti-learners."
   ]
  },
  {
   "cell_type": "markdown",
   "metadata": {},
   "source": [
    "# Results Evaluation\n",
    "- Q1) To what extent do full time developers have a learning mentality?\n",
    "    - Based on the left skewed distributions of many learning mentality variable, it appears as though developers have fairly strong learning mentality. \n",
    "\n",
    "- Q2) To what extent do full time developers have a strong social network with other developers?\n",
    "    - Based on the relatively normal distributions of social network variables, developers do not necessarily appear to have a strong social network with other developers. \n",
    "\n",
    "- Q3) How do individual learning mentality and social network strength relate to career satisfaction?\t\n",
    "    - Based on a couple linear regression models, we find that both learning mentality and social network variables are important for career satisfaction with the former being more important. \n",
    "    - If we cluster developers based on aggregated learning mentality and network strength variables, we find that networking learners have the highest career satisfaction. "
   ]
  },
  {
   "cell_type": "code",
   "execution_count": null,
   "metadata": {},
   "outputs": [],
   "source": []
  },
  {
   "cell_type": "code",
   "execution_count": null,
   "metadata": {},
   "outputs": [],
   "source": []
  }
 ],
 "metadata": {
  "kernelspec": {
   "display_name": "Python 3",
   "language": "python",
   "name": "python3"
  },
  "language_info": {
   "codemirror_mode": {
    "name": "ipython",
    "version": 3
   },
   "file_extension": ".py",
   "mimetype": "text/x-python",
   "name": "python",
   "nbconvert_exporter": "python",
   "pygments_lexer": "ipython3",
   "version": "3.7.1"
  }
 },
 "nbformat": 4,
 "nbformat_minor": 2
}
